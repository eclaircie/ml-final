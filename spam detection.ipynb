{
 "cells": [
  {
   "cell_type": "code",
   "execution_count": 1,
   "id": "a4f09300",
   "metadata": {},
   "outputs": [],
   "source": [
    "import csv\n",
    "import numpy as np\n",
    "import matplotlib.pyplot as plt\n",
    "from sklearn.naive_bayes import MultinomialNB\n",
    "\n",
    "def normalize(string):\n",
    "    # make everything lowercase \n",
    "    \n",
    "    # strip html tags, replace with keyword [LINK]\n",
    "    \n",
    "    # replace all whitespace with a single space\n",
    "    \n",
    "\n",
    "def process_text(file):\n",
    "    # read 4th col of file (data) + 5th col (label)\n",
    "    with open ('Training.csv') as file:\n",
    "        string = file(row[3])\n",
    "        label = file(row[5])\n",
    "        \n",
    "    \n",
    "    for example in string :\n",
    "        normalize(example)\n",
    "    # \n",
    "    \n",
    "    return []\n",
    "    \n",
    "\n",
    "    \n",
    "#create dictionary of most common words from an array of strings\n",
    "#default dict size is 500 words\n",
    "def create_dict(arr, size=500):\n",
    "    \n",
    "    \n",
    "    \n",
    "def main():\n",
    "    nb = MultinomialNB(force_alpha=True)\n",
    "    nb.fit(X, y)"
   ]
  },
  {
   "cell_type": "code",
   "execution_count": null,
   "id": "c40b4c55",
   "metadata": {},
   "outputs": [],
   "source": []
  }
 ],
 "metadata": {
  "kernelspec": {
   "display_name": "Python 3 (ipykernel)",
   "language": "python",
   "name": "python3"
  },
  "language_info": {
   "codemirror_mode": {
    "name": "ipython",
    "version": 3
   },
   "file_extension": ".py",
   "mimetype": "text/x-python",
   "name": "python",
   "nbconvert_exporter": "python",
   "pygments_lexer": "ipython3",
   "version": "3.9.10"
  }
 },
 "nbformat": 4,
 "nbformat_minor": 5
}
