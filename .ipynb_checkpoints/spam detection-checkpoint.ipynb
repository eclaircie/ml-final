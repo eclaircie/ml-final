{
 "cells": [
  {
   "cell_type": "code",
   "execution_count": 1,
   "id": "a4f09300",
   "metadata": {},
   "outputs": [],
   "source": [
    "import csv\n",
    "import numpy as np\n",
    "import matplotlib.pyplot as plt\n",
    "#from sklearn.naive_bayes import MultinomialNB\n",
    "\n",
    "def normalize(string):\n",
    "    # make everything lowercase \n",
    "    \n",
    "    # strip html tags, replace with \"\"\n",
    "    \n",
    "    # remove punctuation; \n",
    "    #replace with keyword \" _PUNCT \" (including spaces)\n",
    "    \n",
    "    # remove links, replace with keyword \" _EXTERNALLINK \"\n",
    "\n",
    "    # replace all excessive whitespace with a single space; \n",
    "    #(this will also normalize the punctuation & link counters above)\n",
    "    \n",
    "    \n",
    "    \n",
    "    \n",
    "    \n",
    "    #return string\n",
    "    #return void\n",
    "\n",
    "\n",
    "def process_text(filename):\n",
    "    # read 4th col of file (data) + 5th col (label)\n",
    "    with open (filename) as file:\n",
    "        strings = file(row[3])\n",
    "        labels = file(row[4])\n",
    "    \n",
    "    #strings_norm = []\n",
    "    for example in strings :\n",
    "        normalize(example)\n",
    "    \n",
    "    return np.column_stack(strings,label)\n",
    "    \n",
    "\n",
    "    \n",
    "#create dictionary of most common words from an array of strings, where spam = 1\n",
    "#default dict size is 500 words\n",
    "def create_dict(arr, size=500):\n",
    "    \n",
    "    \n",
    "    \n",
    "def main():\n",
    "    #nb = MultinomialNB(force_alpha=True)\n",
    "    #nb.fit(X, y)\n",
    "    \n",
    "    training_set = process_text('Training.csv')\n",
    "    dictionary = create_dict(training_set, 150) #150 words\n",
    "    "
   ]
  },
  {
   "cell_type": "code",
   "execution_count": null,
   "id": "c40b4c55",
   "metadata": {},
   "outputs": [],
   "source": []
  }
 ],
 "metadata": {
  "kernelspec": {
   "display_name": "Python 3 (ipykernel)",
   "language": "python",
   "name": "python3"
  },
  "language_info": {
   "codemirror_mode": {
    "name": "ipython",
    "version": 3
   },
   "file_extension": ".py",
   "mimetype": "text/x-python",
   "name": "python",
   "nbconvert_exporter": "python",
   "pygments_lexer": "ipython3",
   "version": "3.9.10"
  }
 },
 "nbformat": 4,
 "nbformat_minor": 5
}
